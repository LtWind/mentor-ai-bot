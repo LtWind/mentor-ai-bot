{
 "cells": [
  {
   "cell_type": "code",
   "execution_count": 9,
   "id": "3c075a6a",
   "metadata": {},
   "outputs": [
    {
     "name": "stderr",
     "output_type": "stream",
     "text": [
      "2025-04-16 22:40:01,295 (__init__.py:1121 MainThread) ERROR - TeleBot: \"Infinity polling: polling exited\"\n",
      "2025-04-16 22:40:01,296 (__init__.py:1123 MainThread) ERROR - TeleBot: \"Break infinity polling\"\n"
     ]
    }
   ],
   "source": [
    "import telebot\n",
    "from telebot.types import Message\n",
    "\n",
    "#get API token and start bot\n",
    "f=open(\"API_TOKEN\",\"r\")\n",
    "lines=f.readlines()\n",
    "API_TOKEN = lines[0]\n",
    "f.close()\n",
    "\n",
    "bot = telebot.TeleBot(API_TOKEN)\n",
    "\n",
    "# Keep track of user data: user_id -> {'prompt_msg_id': int, 'session_text': str, 'accepted_msg_id': int}\n",
    "user_sessions = {}\n",
    "\n",
    "@bot.message_handler(commands=['start'])\n",
    "def handle_start(message: Message):\n",
    "    prompt = bot.send_message(message.chat.id, \"Write the details of a session you want to facilitate as a reply\")\n",
    "    user_sessions[message.from_user.id] = {'prompt_msg_id': prompt.message_id}\n",
    "\n",
    "@bot.message_handler(func=lambda m: m.reply_to_message is not None and not m.text.startswith(\"/\"))\n",
    "def handle_session_reply(message: Message):\n",
    "    user_id = message.from_user.id\n",
    "    replied_to = message.reply_to_message\n",
    "\n",
    "    session_info = user_sessions.get(user_id)\n",
    "    if session_info and replied_to.message_id == session_info.get('prompt_msg_id'):\n",
    "        # Save the user's session message\n",
    "        session_info['session_text'] = message.text\n",
    "        accepted_msg = bot.reply_to(message, \"Step 1. Start meeting \\n Step 2. End meeting \\n Step 3. ????? \\n Step 4. Profit! \\n Reply to this message with /transcript <transcript> so we can analyze your meeting\")\n",
    "        session_info['accepted_msg_id'] = accepted_msg.message_id\n",
    "\n",
    "@bot.message_handler(commands=['transcript'])\n",
    "def handle_transcript(message: Message):\n",
    "    user_id = message.from_user.id\n",
    "    replied_to = message.reply_to_message\n",
    "\n",
    "    session_info = user_sessions.get(user_id)\n",
    "    if session_info and replied_to and replied_to.message_id == session_info.get('accepted_msg_id'):\n",
    "        # Get the <text> from the /transcript command\n",
    "        parts = message.text.split(' ', 1)\n",
    "        if len(parts) < 2:\n",
    "            bot.reply_to(message, \"Please provide text after /transcript.\")\n",
    "            return\n",
    "\n",
    "        transcript_text = parts[1]\n",
    "        original = session_info.get('session_text', '[No session text found]')\n",
    "        reply = f\"📝 *Session Details:*\\n{original}\\n\\n🗒️ *Transcript:*\\n{transcript_text}\"\n",
    "        bot.reply_to(message, reply, parse_mode='Markdown')\n",
    "\n",
    "bot.infinity_polling()\n"
   ]
  }
 ],
 "metadata": {
  "kernelspec": {
   "display_name": "base",
   "language": "python",
   "name": "python3"
  },
  "language_info": {
   "codemirror_mode": {
    "name": "ipython",
    "version": 3
   },
   "file_extension": ".py",
   "mimetype": "text/x-python",
   "name": "python",
   "nbconvert_exporter": "python",
   "pygments_lexer": "ipython3",
   "version": "3.12.7"
  }
 },
 "nbformat": 4,
 "nbformat_minor": 5
}
