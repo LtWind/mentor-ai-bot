{
 "cells": [
  {
   "cell_type": "code",
   "execution_count": null,
   "id": "3c075a6a",
   "metadata": {},
   "outputs": [
    {
     "name": "stderr",
     "output_type": "stream",
     "text": [
      "2025-04-16 22:15:05,106 (__init__.py:1121 MainThread) ERROR - TeleBot: \"Infinity polling: polling exited\"\n",
      "2025-04-16 22:15:05,107 (__init__.py:1123 MainThread) ERROR - TeleBot: \"Break infinity polling\"\n"
     ]
    }
   ],
   "source": [
    "import telebot\n",
    "\n",
    "f=open(\"/authentication/account.txt\",\"r\")\n",
    "lines=f.readlines()\n",
    "API_TOKEN = lines[0]\n",
    "f.close()\n",
    "\n",
    "bot = telebot.TeleBot(API_TOKEN)\n",
    "\n",
    "\n",
    "# Handle '/start' and '/help'\n",
    "@bot.message_handler(commands=['help', 'start'])\n",
    "def send_welcome(message):\n",
    "    bot.reply_to(message, \"\"\"\\\n",
    "Hi there, I am EchoBot.\n",
    "I am here to echo your kind words back to you. Just say anything nice and I'll say the exact same thing to you!\\\n",
    "\"\"\")\n",
    "\n",
    "\n",
    "# Handle all other messages with content_type 'text' (content_types defaults to ['text'])\n",
    "@bot.message_handler(func=lambda message: True)\n",
    "def echo_message(message):\n",
    "    bot.reply_to(message, message.text)\n",
    "\n",
    "\n",
    "bot.infinity_polling()"
   ]
  }
 ],
 "metadata": {
  "kernelspec": {
   "display_name": "base",
   "language": "python",
   "name": "python3"
  },
  "language_info": {
   "codemirror_mode": {
    "name": "ipython",
    "version": 3
   },
   "file_extension": ".py",
   "mimetype": "text/x-python",
   "name": "python",
   "nbconvert_exporter": "python",
   "pygments_lexer": "ipython3",
   "version": "3.12.7"
  }
 },
 "nbformat": 4,
 "nbformat_minor": 5
}
